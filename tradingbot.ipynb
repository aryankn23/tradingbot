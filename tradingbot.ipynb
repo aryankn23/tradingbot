{
 "cells": [
  {
   "cell_type": "code",
   "execution_count": 3,
   "metadata": {},
   "outputs": [
    {
     "data": {
      "image/png": "[encoded data removed]",
      "text/plain": [
       "<Figure size 432x288 with 1 Axes>"
      ]
     },
     "metadata": {
      "needs_background": "light"
     },
     "output_type": "display_data"
    }
   ],
   "source": [
    "import pandas as pd\n",
    "import numpy as np\n",
    "# pip install nsetools;\n",
    "from nsetools import Nse\n",
    "nse=Nse()\n",
    "# q=nse.get_quote('KANSAINER')\n",
    "# from pprint import pprint\n",
    "# pprint(q)\n",
    "# top_gainers = nse.get_top_gainers()\n",
    "# pip install nsepy;\n",
    "from nsepy import get_history\n",
    "from datetime import date\n",
    "# data = get_history(symbol=\"SBIN\", start=date(2021,1,1), end=date(2021,1,21))\n",
    "\n",
    "# pip install python-dateutil\n",
    "import dateutil.relativedelta\n",
    "import matplotlib.pyplot as plt\n",
    "from datetime import datetime,timedelta\n",
    "to_date=datetime.now()\n",
    "to_date=datetime.strftime(to_date, \"%Y %m, %d\")\n",
    "to_date=datetime.strptime(to_date, \"%Y %m, %d\")\n",
    "days_to_subtract=365\n",
    "from_date=to_date-timedelta(days=days_to_subtract)\n",
    "data = get_history(symbol=\"SBIN\", start=from_date, end=to_date)\n",
    "data[['Close']].plot()\n",
    "data.index = pd.to_datetime(data.index)"
   ]
  },
  {
   "cell_type": "code",
   "execution_count": null,
   "metadata": {},
   "outputs": [],
   "source": [
    "# pip install stockstats\n",
    "\n",
    "from stockstats import StockDataFrame as Sdf\n",
    "\n",
    "stock_df = Sdf.retype(data)\n",
    "\n",
    "data['rsi']=stock_df['rsi_14']\n",
    "\n",
    "del data['close_-1_s']\n",
    "del data['close_-1_d']\n",
    "del data['rs_14']\n",
    "del data['rsi_14']\n",
    "\n",
    "data['macd']=stock_df['macd']\n",
    "data['macdh']=stock_df['macdh']\n",
    "data['macds']=stock_df['macds']\n",
    "\n",
    "plt.plot(data['macds'],zorder=1)\n",
    "plt.plot(data['macd'],zorder=2)\n",
    "\n",
    "def intersection(lst_1,lst_2):\n",
    "    intersections = []\n",
    "    insights = []\n",
    "    if len(lst_1) > len(lst_2):\n",
    "        settle = len(lst_2)\n",
    "    else:\n",
    "        settle = len(lst_1)\n",
    "    for i in range(settle-1):\n",
    "        if (lst_1[i+1] < lst_2[i+1]) != (lst_1[i] < lst_2[i]):\n",
    "            if ((lst_1[i+1] < lst_2[i+1]),(lst_1[i] < lst_2[i])) == (True,False):\n",
    "                insights.append('buy')\n",
    "            else:\n",
    "                insights.append('sell')\n",
    "            intersections.append(i)\n",
    "    return intersections,insights\n",
    "intersections,insights = intersection(data[\"macds\"],data[\"macd\"])\n",
    "\n",
    "profit = 0\n",
    "pat = 1\n",
    "for i in range(len(intersections)-pat):\n",
    "    index = intersections[i]\n",
    "    true_trade= None\n",
    "    if data['close'][index] < data['close'][index+pat]:\n",
    "        true_trade = 'buy'\n",
    "    elif data['close'][index] > data['close'][index+pat]:\n",
    "        true_trade = 'sell'\n",
    "    if true_trade != None:\n",
    "        if insights[i] == true_trade:\n",
    "            profit += abs(data['close'][index]-data['close'][index+1]) \n",
    "        if insights[i] != true_trade:\n",
    "            profit += -abs(data['close'][index]-data['close'][index+1])\n"
   ]
  },
  {
   "cell_type": "code",
   "execution_count": null,
   "metadata": {},
   "outputs": [],
   "source": []
  },
  {
   "cell_type": "code",
   "execution_count": null,
   "metadata": {},
   "outputs": [],
   "source": []
  }
 ],
 "metadata": {
  "kernelspec": {
   "display_name": "Python 3",
   "language": "python",
   "name": "python3"
  },
  "language_info": {
   "codemirror_mode": {
    "name": "ipython",
    "version": 3
   },
   "file_extension": ".py",
   "mimetype": "text/x-python",
   "name": "python",
   "nbconvert_exporter": "python",
   "pygments_lexer": "ipython3",
   "version": "3.7.6"
  }
 },
 "nbformat": 4,
 "nbformat_minor": 4
}
