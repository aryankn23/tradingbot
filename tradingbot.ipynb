{
 "cells": [
  {
   "cell_type": "code",
   "execution_count": 2,
   "metadata": {},
   "outputs": [],
   "source": [
    "import pandas as pd\n",
    "import numpy as np"
   ]
  },
  {
   "cell_type": "code",
   "execution_count": 4,
   "metadata": {},
   "outputs": [],
   "source": [
    "arr=np.array([1,2,3])\n"
   ]
  },
  {
   "cell_type": "code",
   "execution_count": 5,
   "metadata": {},
   "outputs": [
    {
     "name": "stdout",
     "output_type": "stream",
     "text": [
      "[1 2 3]\n"
     ]
    }
   ],
   "source": [
    "print(arr)"
   ]
  },
  {
   "cell_type": "code",
   "execution_count": 6,
   "metadata": {},
   "outputs": [
    {
     "name": "stdout",
     "output_type": "stream",
     "text": [
      "Collecting nsetools\n",
      "  Downloading nsetools-1.0.11-py3-none-any.whl (9.6 kB)\n",
      "Collecting dateutils\n",
      "  Downloading dateutils-0.6.12-py2.py3-none-any.whl (5.7 kB)\n",
      "Requirement already satisfied: six in c:\\users\\aryan\\anaconda3\\lib\\site-packages (from nsetools) (1.14.0)\n",
      "Requirement already satisfied: python-dateutil in c:\\users\\aryan\\anaconda3\\lib\\site-packages (from dateutils->nsetools) (2.8.1)\n",
      "Requirement already satisfied: pytz in c:\\users\\aryan\\anaconda3\\lib\\site-packages (from dateutils->nsetools) (2019.3)\n",
      "Installing collected packages: dateutils, nsetools\n",
      "Successfully installed dateutils-0.6.12 nsetools-1.0.11\n",
      "Note: you may need to restart the kernel to use updated packages.\n"
     ]
    }
   ],
   "source": [
    "pip install nsetools"
   ]
  },
  {
   "cell_type": "code",
   "execution_count": 7,
   "metadata": {},
   "outputs": [],
   "source": [
    "from nsetools import Nse"
   ]
  },
  {
   "cell_type": "code",
   "execution_count": 8,
   "metadata": {},
   "outputs": [],
   "source": [
    "nse=Nse()"
   ]
  },
  {
   "cell_type": "code",
   "execution_count": 9,
   "metadata": {},
   "outputs": [
    {
     "name": "stdout",
     "output_type": "stream",
     "text": [
      "Driver Class for National Stock Exchange (NSE)\n"
     ]
    }
   ],
   "source": [
    "print(nse)"
   ]
  },
  {
   "cell_type": "code",
   "execution_count": 12,
   "metadata": {},
   "outputs": [],
   "source": [
    "q=nse.get_quote('KANSAINER')"
   ]
  },
  {
   "cell_type": "code",
   "execution_count": 13,
   "metadata": {},
   "outputs": [],
   "source": [
    "from pprint import pprint"
   ]
  },
  {
   "cell_type": "code",
   "execution_count": 14,
   "metadata": {},
   "outputs": [
    {
     "name": "stdout",
     "output_type": "stream",
     "text": [
      "{'adhocMargin': None,\n",
      " 'applicableMargin': 19.3,\n",
      " 'averagePrice': 645.33,\n",
      " 'basePrice': 628.65,\n",
      " 'bcEndDate': None,\n",
      " 'bcStartDate': None,\n",
      " 'buyPrice1': 656.15,\n",
      " 'buyPrice2': None,\n",
      " 'buyPrice3': None,\n",
      " 'buyPrice4': None,\n",
      " 'buyPrice5': None,\n",
      " 'buyQuantity1': 1830.0,\n",
      " 'buyQuantity2': None,\n",
      " 'buyQuantity3': None,\n",
      " 'buyQuantity4': None,\n",
      " 'buyQuantity5': None,\n",
      " 'change': 31.35,\n",
      " 'closePrice': 656.15,\n",
      " 'cm_adj_high_dt': '14-JAN-21',\n",
      " 'cm_adj_low_dt': '24-MAR-20',\n",
      " 'cm_ffm': 8840.3,\n",
      " 'companyName': 'Kansai Nerolac Paints Limited',\n",
      " 'css_status_desc': 'Listed',\n",
      " 'dayHigh': 672.65,\n",
      " 'dayLow': 618.0,\n",
      " 'deliveryQuantity': 304912.0,\n",
      " 'deliveryToTradedQuantity': 44.14,\n",
      " 'exDate': '12-NOV-20',\n",
      " 'extremeLossMargin': 3.5,\n",
      " 'faceValue': 1.0,\n",
      " 'high52': 672.65,\n",
      " 'indexVar': None,\n",
      " 'isExDateFlag': False,\n",
      " 'isinCode': 'INE531A01024',\n",
      " 'lastPrice': 660.0,\n",
      " 'low52': 293.7,\n",
      " 'marketType': 'N',\n",
      " 'ndEndDate': None,\n",
      " 'ndStartDate': None,\n",
      " 'open': 630.0,\n",
      " 'pChange': 4.99,\n",
      " 'previousClose': 628.65,\n",
      " 'priceBand': 20.0,\n",
      " 'pricebandlower': 502.95,\n",
      " 'pricebandupper': 754.35,\n",
      " 'purpose': 'INTERIM DIVIDEND - RS 1.25 PER SHARE',\n",
      " 'quantityTraded': 690736.0,\n",
      " 'recordDate': '13-NOV-20',\n",
      " 'secDate': '14-Jan-2021 00:00:00',\n",
      " 'securityVar': 15.8,\n",
      " 'sellPrice1': None,\n",
      " 'sellPrice2': None,\n",
      " 'sellPrice3': None,\n",
      " 'sellPrice4': None,\n",
      " 'sellPrice5': None,\n",
      " 'sellQuantity1': None,\n",
      " 'sellQuantity2': None,\n",
      " 'sellQuantity3': None,\n",
      " 'sellQuantity4': None,\n",
      " 'sellQuantity5': None,\n",
      " 'series': 'EQ',\n",
      " 'surv_indicator': None,\n",
      " 'symbol': 'KANSAINER',\n",
      " 'totalBuyQuantity': 1830.0,\n",
      " 'totalSellQuantity': None,\n",
      " 'totalTradedValue': 4457.53,\n",
      " 'totalTradedVolume': 690736.0,\n",
      " 'varMargin': 15.8}\n"
     ]
    }
   ],
   "source": [
    "pprint(q)"
   ]
  },
  {
   "cell_type": "code",
   "execution_count": 15,
   "metadata": {},
   "outputs": [],
   "source": [
    "top_gainers = nse.get_top_gainers()"
   ]
  },
  {
   "cell_type": "code",
   "execution_count": 16,
   "metadata": {},
   "outputs": [
    {
     "name": "stdout",
     "output_type": "stream",
     "text": [
      "[{'highPrice': 515.0,\n",
      "  'lastCorpAnnouncement': 'Dividend - Rs 6 Per Sh',\n",
      "  'lastCorpAnnouncementDate': '19-Aug-2020',\n",
      "  'lowPrice': 493.0,\n",
      "  'ltp': 509.9,\n",
      "  'netPrice': 3.7,\n",
      "  'openPrice': 494.1,\n",
      "  'previousPrice': 491.7,\n",
      "  'series': 'EQ',\n",
      "  'symbol': 'UPL',\n",
      "  'tradedQuantity': 15231242.0,\n",
      "  'turnoverInLakhs': 77548.35},\n",
      " {'highPrice': 430.0,\n",
      "  'lastCorpAnnouncement': 'Annual General Meeting',\n",
      "  'lastCorpAnnouncementDate': '18-Sep-2020',\n",
      "  'lowPrice': 411.0,\n",
      "  'ltp': 425.0,\n",
      "  'netPrice': 3.18,\n",
      "  'openPrice': 412.0,\n",
      "  'previousPrice': 411.9,\n",
      "  'series': 'EQ',\n",
      "  'symbol': 'BPCL',\n",
      "  'tradedQuantity': 12600096.0,\n",
      "  'turnoverInLakhs': 52989.7},\n",
      " {'highPrice': 980.7,\n",
      "  'lastCorpAnnouncement': 'Annual General Meeting/Dividend - Rs 7.50 Per Share',\n",
      "  'lastCorpAnnouncementDate': '08-Aug-2019',\n",
      "  'lowPrice': 951.25,\n",
      "  'ltp': 971.05,\n",
      "  'netPrice': 3.0,\n",
      "  'openPrice': 953.0,\n",
      "  'previousPrice': 942.75,\n",
      "  'series': 'EQ',\n",
      "  'symbol': 'INDUSINDBK',\n",
      "  'tradedQuantity': 14887258.0,\n",
      "  'turnoverInLakhs': 144562.72},\n",
      " {'highPrice': 3266.5,\n",
      "  'lastCorpAnnouncement': 'Interim Dividend - Rs 6 Per Share',\n",
      "  'lastCorpAnnouncementDate': '14-Jan-2021',\n",
      "  'lowPrice': 3120.4,\n",
      "  'ltp': 3244.35,\n",
      "  'netPrice': 2.9,\n",
      "  'openPrice': 3155.0,\n",
      "  'previousPrice': 3158.95,\n",
      "  'series': 'EQ',\n",
      "  'symbol': 'TCS',\n",
      "  'tradedQuantity': 6931542.0,\n",
      "  'turnoverInLakhs': 222305.64},\n",
      " {'highPrice': 103.6,\n",
      "  'lastCorpAnnouncement': 'Interim Dividend - Rs 4.25 Per Share',\n",
      "  'lastCorpAnnouncementDate': '23-Mar-2020',\n",
      "  'lowPrice': 100.3,\n",
      "  'ltp': 103.2,\n",
      "  'netPrice': 2.23,\n",
      "  'openPrice': 101.75,\n",
      "  'previousPrice': 100.95,\n",
      "  'series': 'EQ',\n",
      "  'symbol': 'IOC',\n",
      "  'tradedQuantity': 30720438.0,\n",
      "  'turnoverInLakhs': 31307.2},\n",
      " {'highPrice': 146.0,\n",
      "  'lastCorpAnnouncement': 'Interim Dividend - Rs 6.4 Per Share',\n",
      "  'lastCorpAnnouncementDate': '17-Feb-2020',\n",
      "  'lowPrice': 140.9,\n",
      "  'ltp': 144.0,\n",
      "  'netPrice': 1.95,\n",
      "  'openPrice': 141.45,\n",
      "  'previousPrice': 141.25,\n",
      "  'series': 'EQ',\n",
      "  'symbol': 'GAIL',\n",
      "  'tradedQuantity': 30651392.0,\n",
      "  'turnoverInLakhs': 44150.27},\n",
      " {'highPrice': 1389.7,\n",
      "  'lastCorpAnnouncement': 'Special Dividend - Rs 18 Per Share',\n",
      "  'lastCorpAnnouncementDate': '04-Nov-2020',\n",
      "  'lowPrice': 1356.25,\n",
      "  'ltp': 1377.0,\n",
      "  'netPrice': 1.81,\n",
      "  'openPrice': 1358.0,\n",
      "  'previousPrice': 1352.5,\n",
      "  'series': 'EQ',\n",
      "  'symbol': 'LT',\n",
      "  'tradedQuantity': 5168591.0,\n",
      "  'turnoverInLakhs': 71098.62},\n",
      " {'highPrice': 216.5,\n",
      "  'lastCorpAnnouncement': 'Dividend - Rs 10.15 Per Share',\n",
      "  'lastCorpAnnouncementDate': '06-Jul-2020',\n",
      "  'lowPrice': 211.6,\n",
      "  'ltp': 214.1,\n",
      "  'netPrice': 1.35,\n",
      "  'openPrice': 212.0,\n",
      "  'previousPrice': 211.25,\n",
      "  'series': 'EQ',\n",
      "  'symbol': 'ITC',\n",
      "  'tradedQuantity': 48304263.0,\n",
      "  'turnoverInLakhs': 103530.53},\n",
      " {'highPrice': 3704.9,\n",
      "  'lastCorpAnnouncement': 'Interim Dividend - Rs 83 Per Share',\n",
      "  'lastCorpAnnouncementDate': '26-Aug-2020',\n",
      "  'lowPrice': 3619.6,\n",
      "  'ltp': 3662.55,\n",
      "  'netPrice': 1.14,\n",
      "  'openPrice': 3623.0,\n",
      "  'previousPrice': 3621.15,\n",
      "  'series': 'EQ',\n",
      "  'symbol': 'BRITANNIA',\n",
      "  'tradedQuantity': 1192074.0,\n",
      "  'turnoverInLakhs': 43827.79},\n",
      " {'highPrice': 249.8,\n",
      "  'lastCorpAnnouncement': 'Dividend - Re 0.20/- Per Share',\n",
      "  'lastCorpAnnouncementDate': '18-Jul-2016',\n",
      "  'lowPrice': 238.6,\n",
      "  'ltp': 245.25,\n",
      "  'netPrice': 1.09,\n",
      "  'openPrice': 242.85,\n",
      "  'previousPrice': 242.6,\n",
      "  'series': 'EQ',\n",
      "  'symbol': 'TATAMOTORS',\n",
      "  'tradedQuantity': 86819519.0,\n",
      "  'turnoverInLakhs': 212021.95}]\n"
     ]
    }
   ],
   "source": [
    "pprint(top_gainers)"
   ]
  },
  {
   "cell_type": "code",
   "execution_count": 17,
   "metadata": {},
   "outputs": [
    {
     "name": "stdout",
     "output_type": "stream",
     "text": [
      "Collecting nsepy\n",
      "  Downloading nsepy-0.8.tar.gz (33 kB)\n",
      "Requirement already satisfied: beautifulsoup4 in c:\\users\\aryan\\anaconda3\\lib\\site-packages (from nsepy) (4.8.2)\n",
      "Requirement already satisfied: requests in c:\\users\\aryan\\anaconda3\\lib\\site-packages (from nsepy) (2.22.0)\n",
      "Requirement already satisfied: numpy in c:\\users\\aryan\\anaconda3\\lib\\site-packages (from nsepy) (1.18.1)\n",
      "Requirement already satisfied: pandas in c:\\users\\aryan\\anaconda3\\lib\\site-packages (from nsepy) (1.0.1)\n",
      "Requirement already satisfied: six in c:\\users\\aryan\\anaconda3\\lib\\site-packages (from nsepy) (1.14.0)\n",
      "Requirement already satisfied: click in c:\\users\\aryan\\anaconda3\\lib\\site-packages (from nsepy) (7.0)\n",
      "Requirement already satisfied: lxml in c:\\users\\aryan\\anaconda3\\lib\\site-packages (from nsepy) (4.5.0)\n",
      "Requirement already satisfied: soupsieve>=1.2 in c:\\users\\aryan\\anaconda3\\lib\\site-packages (from beautifulsoup4->nsepy) (1.9.5)\n",
      "Requirement already satisfied: urllib3!=1.25.0,!=1.25.1,<1.26,>=1.21.1 in c:\\users\\aryan\\anaconda3\\lib\\site-packages (from requests->nsepy) (1.25.8)\n",
      "Requirement already satisfied: chardet<3.1.0,>=3.0.2 in c:\\users\\aryan\\anaconda3\\lib\\site-packages (from requests->nsepy) (3.0.4)\n",
      "Requirement already satisfied: certifi>=2017.4.17 in c:\\users\\aryan\\anaconda3\\lib\\site-packages (from requests->nsepy) (2019.11.28)\n",
      "Requirement already satisfied: idna<2.9,>=2.5 in c:\\users\\aryan\\anaconda3\\lib\\site-packages (from requests->nsepy) (2.8)\n",
      "Requirement already satisfied: pytz>=2017.2 in c:\\users\\aryan\\anaconda3\\lib\\site-packages (from pandas->nsepy) (2019.3)\n",
      "Requirement already satisfied: python-dateutil>=2.6.1 in c:\\users\\aryan\\anaconda3\\lib\\site-packages (from pandas->nsepy) (2.8.1)\n",
      "Building wheels for collected packages: nsepy\n",
      "  Building wheel for nsepy (setup.py): started\n",
      "  Building wheel for nsepy (setup.py): finished with status 'done'\n",
      "  Created wheel for nsepy: filename=nsepy-0.8-py3-none-any.whl size=36089 sha256=3afc4aa894e1e794e771523ec5f8fd40c8daf6e99b794695441032b05246f636\n",
      "  Stored in directory: c:\\users\\aryan\\appdata\\local\\pip\\cache\\wheels\\32\\ab\\d9\\78ceea14cdf6de83376082b3cb0c2999fd77f823e35c47b9ec\n",
      "Successfully built nsepy\n",
      "Installing collected packages: nsepy\n",
      "Successfully installed nsepy-0.8\n",
      "Note: you may need to restart the kernel to use updated packages.\n"
     ]
    }
   ],
   "source": [
    "pip install nsepy"
   ]
  },
  {
   "cell_type": "code",
   "execution_count": 18,
   "metadata": {},
   "outputs": [],
   "source": [
    "from nsepy import get_history"
   ]
  },
  {
   "cell_type": "code",
   "execution_count": 19,
   "metadata": {},
   "outputs": [],
   "source": [
    "from datetime import date"
   ]
  },
  {
   "cell_type": "code",
   "execution_count": 20,
   "metadata": {},
   "outputs": [],
   "source": [
    "data = get_history(symbol=\"SBIN\", start=date(2021,1,1), end=date(2021,1,21))"
   ]
  },
  {
   "cell_type": "code",
   "execution_count": 21,
   "metadata": {},
   "outputs": [
    {
     "data": {
      "text/plain": [
       "<matplotlib.axes._subplots.AxesSubplot at 0x277f00aab88>"
      ]
     },
     "execution_count": 21,
     "metadata": {},
     "output_type": "execute_result"
    },
    {
     "data": {
      "image/png": "[encoded data removed]",
      "text/plain": [
       "<Figure size 432x288 with 1 Axes>"
      ]
     },
     "metadata": {
      "needs_background": "light"
     },
     "output_type": "display_data"
    }
   ],
   "source": [
    "data[['Close']].plot()"
   ]
  },
  {
   "cell_type": "code",
   "execution_count": 23,
   "metadata": {},
   "outputs": [
    {
     "data": {
      "text/html": [
       "<div>\n",
       "<style scoped>\n",
       "    .dataframe tbody tr th:only-of-type {\n",
       "        vertical-align: middle;\n",
       "    }\n",
       "\n",
       "    .dataframe tbody tr th {\n",
       "        vertical-align: top;\n",
       "    }\n",
       "\n",
       "    .dataframe thead th {\n",
       "        text-align: right;\n",
       "    }\n",
       "</style>\n",
       "<table border=\"1\" class=\"dataframe\">\n",
       "  <thead>\n",
       "    <tr style=\"text-align: right;\">\n",
       "      <th></th>\n",
       "      <th>Symbol</th>\n",
       "      <th>Series</th>\n",
       "      <th>Prev Close</th>\n",
       "      <th>Open</th>\n",
       "      <th>High</th>\n",
       "      <th>Low</th>\n",
       "      <th>Last</th>\n",
       "      <th>Close</th>\n",
       "      <th>VWAP</th>\n",
       "      <th>Volume</th>\n",
       "      <th>Turnover</th>\n",
       "      <th>Trades</th>\n",
       "      <th>Deliverable Volume</th>\n",
       "      <th>%Deliverble</th>\n",
       "    </tr>\n",
       "    <tr>\n",
       "      <th>Date</th>\n",
       "      <th></th>\n",
       "      <th></th>\n",
       "      <th></th>\n",
       "      <th></th>\n",
       "      <th></th>\n",
       "      <th></th>\n",
       "      <th></th>\n",
       "      <th></th>\n",
       "      <th></th>\n",
       "      <th></th>\n",
       "      <th></th>\n",
       "      <th></th>\n",
       "      <th></th>\n",
       "      <th></th>\n",
       "    </tr>\n",
       "  </thead>\n",
       "  <tbody>\n",
       "    <tr>\n",
       "      <th>2021-01-01</th>\n",
       "      <td>SBIN</td>\n",
       "      <td>EQ</td>\n",
       "      <td>274.95</td>\n",
       "      <td>274.90</td>\n",
       "      <td>280.00</td>\n",
       "      <td>274.40</td>\n",
       "      <td>279.05</td>\n",
       "      <td>279.40</td>\n",
       "      <td>278.33</td>\n",
       "      <td>24531791</td>\n",
       "      <td>6.827968e+14</td>\n",
       "      <td>141601</td>\n",
       "      <td>4783442</td>\n",
       "      <td>0.1950</td>\n",
       "    </tr>\n",
       "    <tr>\n",
       "      <th>2021-01-04</th>\n",
       "      <td>SBIN</td>\n",
       "      <td>EQ</td>\n",
       "      <td>279.40</td>\n",
       "      <td>281.85</td>\n",
       "      <td>283.90</td>\n",
       "      <td>277.75</td>\n",
       "      <td>281.10</td>\n",
       "      <td>281.05</td>\n",
       "      <td>281.41</td>\n",
       "      <td>31450608</td>\n",
       "      <td>8.850464e+14</td>\n",
       "      <td>171760</td>\n",
       "      <td>6521226</td>\n",
       "      <td>0.2073</td>\n",
       "    </tr>\n",
       "    <tr>\n",
       "      <th>2021-01-05</th>\n",
       "      <td>SBIN</td>\n",
       "      <td>EQ</td>\n",
       "      <td>281.05</td>\n",
       "      <td>278.05</td>\n",
       "      <td>282.45</td>\n",
       "      <td>277.00</td>\n",
       "      <td>281.40</td>\n",
       "      <td>281.75</td>\n",
       "      <td>279.69</td>\n",
       "      <td>27393072</td>\n",
       "      <td>7.661574e+14</td>\n",
       "      <td>155149</td>\n",
       "      <td>4984903</td>\n",
       "      <td>0.1820</td>\n",
       "    </tr>\n",
       "    <tr>\n",
       "      <th>2021-01-06</th>\n",
       "      <td>SBIN</td>\n",
       "      <td>EQ</td>\n",
       "      <td>281.75</td>\n",
       "      <td>283.00</td>\n",
       "      <td>289.15</td>\n",
       "      <td>281.40</td>\n",
       "      <td>283.90</td>\n",
       "      <td>285.05</td>\n",
       "      <td>285.76</td>\n",
       "      <td>40765708</td>\n",
       "      <td>1.164907e+15</td>\n",
       "      <td>224327</td>\n",
       "      <td>6201351</td>\n",
       "      <td>0.1521</td>\n",
       "    </tr>\n",
       "    <tr>\n",
       "      <th>2021-01-07</th>\n",
       "      <td>SBIN</td>\n",
       "      <td>EQ</td>\n",
       "      <td>285.05</td>\n",
       "      <td>289.00</td>\n",
       "      <td>291.80</td>\n",
       "      <td>287.00</td>\n",
       "      <td>288.00</td>\n",
       "      <td>287.70</td>\n",
       "      <td>289.15</td>\n",
       "      <td>30546600</td>\n",
       "      <td>8.832502e+14</td>\n",
       "      <td>183684</td>\n",
       "      <td>8560453</td>\n",
       "      <td>0.2802</td>\n",
       "    </tr>\n",
       "    <tr>\n",
       "      <th>2021-01-08</th>\n",
       "      <td>SBIN</td>\n",
       "      <td>EQ</td>\n",
       "      <td>287.70</td>\n",
       "      <td>290.10</td>\n",
       "      <td>291.40</td>\n",
       "      <td>285.20</td>\n",
       "      <td>285.90</td>\n",
       "      <td>286.00</td>\n",
       "      <td>288.25</td>\n",
       "      <td>32543357</td>\n",
       "      <td>9.380501e+14</td>\n",
       "      <td>169736</td>\n",
       "      <td>7276745</td>\n",
       "      <td>0.2236</td>\n",
       "    </tr>\n",
       "    <tr>\n",
       "      <th>2021-01-11</th>\n",
       "      <td>SBIN</td>\n",
       "      <td>EQ</td>\n",
       "      <td>286.00</td>\n",
       "      <td>288.00</td>\n",
       "      <td>288.20</td>\n",
       "      <td>279.60</td>\n",
       "      <td>282.80</td>\n",
       "      <td>282.50</td>\n",
       "      <td>282.50</td>\n",
       "      <td>29703173</td>\n",
       "      <td>8.391027e+14</td>\n",
       "      <td>209864</td>\n",
       "      <td>8900394</td>\n",
       "      <td>0.2996</td>\n",
       "    </tr>\n",
       "    <tr>\n",
       "      <th>2021-01-12</th>\n",
       "      <td>SBIN</td>\n",
       "      <td>EQ</td>\n",
       "      <td>282.50</td>\n",
       "      <td>280.00</td>\n",
       "      <td>293.85</td>\n",
       "      <td>277.90</td>\n",
       "      <td>293.20</td>\n",
       "      <td>292.50</td>\n",
       "      <td>286.89</td>\n",
       "      <td>44307145</td>\n",
       "      <td>1.271142e+15</td>\n",
       "      <td>275857</td>\n",
       "      <td>14782759</td>\n",
       "      <td>0.3336</td>\n",
       "    </tr>\n",
       "    <tr>\n",
       "      <th>2021-01-13</th>\n",
       "      <td>SBIN</td>\n",
       "      <td>EQ</td>\n",
       "      <td>292.50</td>\n",
       "      <td>296.00</td>\n",
       "      <td>308.00</td>\n",
       "      <td>294.50</td>\n",
       "      <td>305.95</td>\n",
       "      <td>306.80</td>\n",
       "      <td>301.17</td>\n",
       "      <td>78042133</td>\n",
       "      <td>2.350398e+15</td>\n",
       "      <td>413038</td>\n",
       "      <td>15723571</td>\n",
       "      <td>0.2015</td>\n",
       "    </tr>\n",
       "    <tr>\n",
       "      <th>2021-01-14</th>\n",
       "      <td>SBIN</td>\n",
       "      <td>EQ</td>\n",
       "      <td>306.80</td>\n",
       "      <td>306.70</td>\n",
       "      <td>309.25</td>\n",
       "      <td>303.80</td>\n",
       "      <td>307.70</td>\n",
       "      <td>307.25</td>\n",
       "      <td>307.16</td>\n",
       "      <td>40123498</td>\n",
       "      <td>1.232415e+15</td>\n",
       "      <td>244731</td>\n",
       "      <td>11711561</td>\n",
       "      <td>0.2919</td>\n",
       "    </tr>\n",
       "  </tbody>\n",
       "</table>\n",
       "</div>"
      ],
      "text/plain": [
       "           Symbol Series  Prev Close    Open    High     Low    Last   Close  \\\n",
       "Date                                                                           \n",
       "2021-01-01   SBIN     EQ      274.95  274.90  280.00  274.40  279.05  279.40   \n",
       "2021-01-04   SBIN     EQ      279.40  281.85  283.90  277.75  281.10  281.05   \n",
       "2021-01-05   SBIN     EQ      281.05  278.05  282.45  277.00  281.40  281.75   \n",
       "2021-01-06   SBIN     EQ      281.75  283.00  289.15  281.40  283.90  285.05   \n",
       "2021-01-07   SBIN     EQ      285.05  289.00  291.80  287.00  288.00  287.70   \n",
       "2021-01-08   SBIN     EQ      287.70  290.10  291.40  285.20  285.90  286.00   \n",
       "2021-01-11   SBIN     EQ      286.00  288.00  288.20  279.60  282.80  282.50   \n",
       "2021-01-12   SBIN     EQ      282.50  280.00  293.85  277.90  293.20  292.50   \n",
       "2021-01-13   SBIN     EQ      292.50  296.00  308.00  294.50  305.95  306.80   \n",
       "2021-01-14   SBIN     EQ      306.80  306.70  309.25  303.80  307.70  307.25   \n",
       "\n",
       "              VWAP    Volume      Turnover  Trades  Deliverable Volume  \\\n",
       "Date                                                                     \n",
       "2021-01-01  278.33  24531791  6.827968e+14  141601             4783442   \n",
       "2021-01-04  281.41  31450608  8.850464e+14  171760             6521226   \n",
       "2021-01-05  279.69  27393072  7.661574e+14  155149             4984903   \n",
       "2021-01-06  285.76  40765708  1.164907e+15  224327             6201351   \n",
       "2021-01-07  289.15  30546600  8.832502e+14  183684             8560453   \n",
       "2021-01-08  288.25  32543357  9.380501e+14  169736             7276745   \n",
       "2021-01-11  282.50  29703173  8.391027e+14  209864             8900394   \n",
       "2021-01-12  286.89  44307145  1.271142e+15  275857            14782759   \n",
       "2021-01-13  301.17  78042133  2.350398e+15  413038            15723571   \n",
       "2021-01-14  307.16  40123498  1.232415e+15  244731            11711561   \n",
       "\n",
       "            %Deliverble  \n",
       "Date                     \n",
       "2021-01-01       0.1950  \n",
       "2021-01-04       0.2073  \n",
       "2021-01-05       0.1820  \n",
       "2021-01-06       0.1521  \n",
       "2021-01-07       0.2802  \n",
       "2021-01-08       0.2236  \n",
       "2021-01-11       0.2996  \n",
       "2021-01-12       0.3336  \n",
       "2021-01-13       0.2015  \n",
       "2021-01-14       0.2919  "
      ]
     },
     "execution_count": 23,
     "metadata": {},
     "output_type": "execute_result"
    }
   ],
   "source": [
    "data"
   ]
  },
  {
   "cell_type": "code",
   "execution_count": 24,
   "metadata": {},
   "outputs": [
    {
     "name": "stdout",
     "output_type": "stream",
     "text": [
      "Requirement already satisfied: python-dateutil in c:\\users\\aryan\\anaconda3\\lib\\site-packages (2.8.1)\n",
      "Requirement already satisfied: six>=1.5 in c:\\users\\aryan\\anaconda3\\lib\\site-packages (from python-dateutil) (1.14.0)\n",
      "Note: you may need to restart the kernel to use updated packages.\n"
     ]
    }
   ],
   "source": [
    "pip install python-dateutil"
   ]
  },
  {
   "cell_type": "code",
   "execution_count": 25,
   "metadata": {},
   "outputs": [],
   "source": [
    "import dateutil.relativedelta"
   ]
  },
  {
   "cell_type": "code",
   "execution_count": 26,
   "metadata": {},
   "outputs": [],
   "source": [
    "import matplotlib.pyplot as plt"
   ]
  },
  {
   "cell_type": "code",
   "execution_count": 38,
   "metadata": {},
   "outputs": [],
   "source": [
    "from datetime import datetime"
   ]
  },
  {
   "cell_type": "code",
   "execution_count": null,
   "metadata": {},
   "outputs": [],
   "source": []
  },
  {
   "cell_type": "code",
   "execution_count": 39,
   "metadata": {},
   "outputs": [],
   "source": [
    "to_date=datetime.now()"
   ]
  },
  {
   "cell_type": "code",
   "execution_count": 53,
   "metadata": {},
   "outputs": [],
   "source": [
    "to_date=datetime.strftime(to_date, \"%Y %m, %d\")"
   ]
  },
  {
   "cell_type": "code",
   "execution_count": null,
   "metadata": {},
   "outputs": [],
   "source": []
  },
  {
   "cell_type": "code",
   "execution_count": 54,
   "metadata": {},
   "outputs": [],
   "source": [
    "to_date=datetime.strptime(to_date, \"%Y %m, %d\")"
   ]
  },
  {
   "cell_type": "code",
   "execution_count": null,
   "metadata": {},
   "outputs": [],
   "source": []
  },
  {
   "cell_type": "code",
   "execution_count": null,
   "metadata": {},
   "outputs": [],
   "source": []
  },
  {
   "cell_type": "code",
   "execution_count": null,
   "metadata": {},
   "outputs": [],
   "source": []
  },
  {
   "cell_type": "code",
   "execution_count": 70,
   "metadata": {},
   "outputs": [],
   "source": [
    "from_date=to_date-dateutil.relativedelta.relativedelta(day=14)"
   ]
  },
  {
   "cell_type": "code",
   "execution_count": null,
   "metadata": {},
   "outputs": [],
   "source": []
  },
  {
   "cell_type": "code",
   "execution_count": null,
   "metadata": {},
   "outputs": [],
   "source": []
  },
  {
   "cell_type": "code",
   "execution_count": null,
   "metadata": {},
   "outputs": [],
   "source": []
  },
  {
   "cell_type": "code",
   "execution_count": 65,
   "metadata": {},
   "outputs": [
    {
     "data": {
      "text/plain": [
       "datetime.datetime(2021, 1, 15, 0, 0)"
      ]
     },
     "execution_count": 65,
     "metadata": {},
     "output_type": "execute_result"
    }
   ],
   "source": [
    "from_date"
   ]
  },
  {
   "cell_type": "code",
   "execution_count": null,
   "metadata": {},
   "outputs": [],
   "source": []
  },
  {
   "cell_type": "code",
   "execution_count": null,
   "metadata": {},
   "outputs": [],
   "source": []
  },
  {
   "cell_type": "code",
   "execution_count": null,
   "metadata": {},
   "outputs": [],
   "source": []
  },
  {
   "cell_type": "code",
   "execution_count": 59,
   "metadata": {},
   "outputs": [
    {
     "name": "stdout",
     "output_type": "stream",
     "text": [
      "relativedelta(month=6)\n"
     ]
    }
   ],
   "source": []
  },
  {
   "cell_type": "code",
   "execution_count": null,
   "metadata": {},
   "outputs": [],
   "source": []
  },
  {
   "cell_type": "code",
   "execution_count": null,
   "metadata": {},
   "outputs": [],
   "source": []
  },
  {
   "cell_type": "code",
   "execution_count": null,
   "metadata": {},
   "outputs": [],
   "source": []
  },
  {
   "cell_type": "code",
   "execution_count": null,
   "metadata": {},
   "outputs": [],
   "source": []
  },
  {
   "cell_type": "code",
   "execution_count": null,
   "metadata": {},
   "outputs": [],
   "source": []
  },
  {
   "cell_type": "code",
   "execution_count": 69,
   "metadata": {},
   "outputs": [
    {
     "data": {
      "text/plain": [
       "datetime.datetime(2021, 1, 15, 0, 0)"
      ]
     },
     "execution_count": 69,
     "metadata": {},
     "output_type": "execute_result"
    }
   ],
   "source": [
    "from_date"
   ]
  },
  {
   "cell_type": "code",
   "execution_count": null,
   "metadata": {},
   "outputs": [],
   "source": []
  },
  {
   "cell_type": "code",
   "execution_count": null,
   "metadata": {},
   "outputs": [],
   "source": []
  },
  {
   "cell_type": "code",
   "execution_count": 49,
   "metadata": {},
   "outputs": [
    {
     "data": {
      "text/plain": [
       "datetime.datetime(2021, 1, 15, 0, 0)"
      ]
     },
     "execution_count": 49,
     "metadata": {},
     "output_type": "execute_result"
    }
   ],
   "source": [
    "to_date"
   ]
  },
  {
   "cell_type": "code",
   "execution_count": null,
   "metadata": {},
   "outputs": [],
   "source": []
  },
  {
   "cell_type": "code",
   "execution_count": null,
   "metadata": {},
   "outputs": [],
   "source": []
  },
  {
   "cell_type": "code",
   "execution_count": 71,
   "metadata": {},
   "outputs": [],
   "source": [
    "data = get_history(symbol=\"SBIN\", start=from_date, end=to_date)"
   ]
  },
  {
   "cell_type": "code",
   "execution_count": null,
   "metadata": {},
   "outputs": [],
   "source": []
  },
  {
   "cell_type": "code",
   "execution_count": 72,
   "metadata": {},
   "outputs": [
    {
     "data": {
      "text/html": [
       "<div>\n",
       "<style scoped>\n",
       "    .dataframe tbody tr th:only-of-type {\n",
       "        vertical-align: middle;\n",
       "    }\n",
       "\n",
       "    .dataframe tbody tr th {\n",
       "        vertical-align: top;\n",
       "    }\n",
       "\n",
       "    .dataframe thead th {\n",
       "        text-align: right;\n",
       "    }\n",
       "</style>\n",
       "<table border=\"1\" class=\"dataframe\">\n",
       "  <thead>\n",
       "    <tr style=\"text-align: right;\">\n",
       "      <th></th>\n",
       "      <th>Symbol</th>\n",
       "      <th>Series</th>\n",
       "      <th>Prev Close</th>\n",
       "      <th>Open</th>\n",
       "      <th>High</th>\n",
       "      <th>Low</th>\n",
       "      <th>Last</th>\n",
       "      <th>Close</th>\n",
       "      <th>VWAP</th>\n",
       "      <th>Volume</th>\n",
       "      <th>Turnover</th>\n",
       "      <th>Trades</th>\n",
       "      <th>Deliverable Volume</th>\n",
       "      <th>%Deliverble</th>\n",
       "    </tr>\n",
       "    <tr>\n",
       "      <th>Date</th>\n",
       "      <th></th>\n",
       "      <th></th>\n",
       "      <th></th>\n",
       "      <th></th>\n",
       "      <th></th>\n",
       "      <th></th>\n",
       "      <th></th>\n",
       "      <th></th>\n",
       "      <th></th>\n",
       "      <th></th>\n",
       "      <th></th>\n",
       "      <th></th>\n",
       "      <th></th>\n",
       "      <th></th>\n",
       "    </tr>\n",
       "  </thead>\n",
       "  <tbody>\n",
       "    <tr>\n",
       "      <th>2021-01-14</th>\n",
       "      <td>SBIN</td>\n",
       "      <td>EQ</td>\n",
       "      <td>306.8</td>\n",
       "      <td>306.7</td>\n",
       "      <td>309.25</td>\n",
       "      <td>303.8</td>\n",
       "      <td>307.7</td>\n",
       "      <td>307.25</td>\n",
       "      <td>307.16</td>\n",
       "      <td>40123498</td>\n",
       "      <td>1.232415e+15</td>\n",
       "      <td>244731</td>\n",
       "      <td>11711561</td>\n",
       "      <td>0.2919</td>\n",
       "    </tr>\n",
       "  </tbody>\n",
       "</table>\n",
       "</div>"
      ],
      "text/plain": [
       "           Symbol Series  Prev Close   Open    High    Low   Last   Close  \\\n",
       "Date                                                                        \n",
       "2021-01-14   SBIN     EQ       306.8  306.7  309.25  303.8  307.7  307.25   \n",
       "\n",
       "              VWAP    Volume      Turnover  Trades  Deliverable Volume  \\\n",
       "Date                                                                     \n",
       "2021-01-14  307.16  40123498  1.232415e+15  244731            11711561   \n",
       "\n",
       "            %Deliverble  \n",
       "Date                     \n",
       "2021-01-14       0.2919  "
      ]
     },
     "execution_count": 72,
     "metadata": {},
     "output_type": "execute_result"
    }
   ],
   "source": [
    "data"
   ]
  },
  {
   "cell_type": "code",
   "execution_count": null,
   "metadata": {},
   "outputs": [],
   "source": []
  },
  {
   "cell_type": "code",
   "execution_count": null,
   "metadata": {},
   "outputs": [],
   "source": []
  },
  {
   "cell_type": "code",
   "execution_count": null,
   "metadata": {},
   "outputs": [],
   "source": []
  },
  {
   "cell_type": "code",
   "execution_count": null,
   "metadata": {},
   "outputs": [],
   "source": []
  },
  {
   "cell_type": "code",
   "execution_count": 41,
   "metadata": {},
   "outputs": [
    {
     "ename": "TypeError",
     "evalue": "strptime() argument 1 must be str, not datetime.datetime",
     "output_type": "error",
     "traceback": [
      "\u001b[1;31m---------------------------------------------------------------------------\u001b[0m",
      "\u001b[1;31mTypeError\u001b[0m                                 Traceback (most recent call last)",
      "\u001b[1;32m<ipython-input-41-e5c378b7ec77>\u001b[0m in \u001b[0;36m<module>\u001b[1;34m\u001b[0m\n\u001b[1;32m----> 1\u001b[1;33m \u001b[0mdatetime\u001b[0m\u001b[1;33m.\u001b[0m\u001b[0mstrptime\u001b[0m\u001b[1;33m(\u001b[0m\u001b[0mto_date\u001b[0m\u001b[1;33m,\u001b[0m \u001b[1;34m\"%Y %m, %d\"\u001b[0m\u001b[1;33m)\u001b[0m\u001b[1;33m\u001b[0m\u001b[1;33m\u001b[0m\u001b[0m\n\u001b[0m",
      "\u001b[1;31mTypeError\u001b[0m: strptime() argument 1 must be str, not datetime.datetime"
     ]
    }
   ],
   "source": [
    "datetime.strptime(to_date, \"%Y %m, %d\")"
   ]
  },
  {
   "cell_type": "code",
   "execution_count": null,
   "metadata": {},
   "outputs": [],
   "source": []
  },
  {
   "cell_type": "code",
   "execution_count": null,
   "metadata": {},
   "outputs": [],
   "source": []
  },
  {
   "cell_type": "code",
   "execution_count": null,
   "metadata": {},
   "outputs": [],
   "source": []
  },
  {
   "cell_type": "code",
   "execution_count": null,
   "metadata": {},
   "outputs": [],
   "source": []
  },
  {
   "cell_type": "code",
   "execution_count": 34,
   "metadata": {},
   "outputs": [
    {
     "data": {
      "text/plain": [
       "datetime.datetime(2021, 1, 15, 2, 8, 23, 495733)"
      ]
     },
     "execution_count": 34,
     "metadata": {},
     "output_type": "execute_result"
    }
   ],
   "source": [
    "to_date"
   ]
  },
  {
   "cell_type": "code",
   "execution_count": null,
   "metadata": {},
   "outputs": [],
   "source": []
  },
  {
   "cell_type": "code",
   "execution_count": null,
   "metadata": {},
   "outputs": [],
   "source": []
  },
  {
   "cell_type": "code",
   "execution_count": null,
   "metadata": {},
   "outputs": [],
   "source": []
  },
  {
   "cell_type": "code",
   "execution_count": null,
   "metadata": {},
   "outputs": [],
   "source": []
  },
  {
   "cell_type": "code",
   "execution_count": null,
   "metadata": {},
   "outputs": [],
   "source": []
  },
  {
   "cell_type": "code",
   "execution_count": null,
   "metadata": {},
   "outputs": [],
   "source": []
  },
  {
   "cell_type": "code",
   "execution_count": null,
   "metadata": {},
   "outputs": [],
   "source": []
  },
  {
   "cell_type": "code",
   "execution_count": null,
   "metadata": {},
   "outputs": [],
   "source": []
  },
  {
   "cell_type": "code",
   "execution_count": null,
   "metadata": {},
   "outputs": [],
   "source": []
  }
 ],
 "metadata": {
  "kernelspec": {
   "display_name": "Python 3",
   "language": "python",
   "name": "python3"
  },
  "language_info": {
   "codemirror_mode": {
    "name": "ipython",
    "version": 3
   },
   "file_extension": ".py",
   "mimetype": "text/x-python",
   "name": "python",
   "nbconvert_exporter": "python",
   "pygments_lexer": "ipython3",
   "version": "3.7.6"
  }
 },
 "nbformat": 4,
 "nbformat_minor": 4
}
