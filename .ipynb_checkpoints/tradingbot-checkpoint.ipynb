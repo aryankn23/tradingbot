{
 "cells": [
  {
   "cell_type": "code",
   "execution_count": 11,
   "metadata": {},
   "outputs": [
    {
     "data": {
      "image/png": "[encoded data removed]",
      "text/plain": [
       "<Figure size 432x288 with 1 Axes>"
      ]
     },
     "metadata": {
      "needs_background": "light"
     },
     "output_type": "display_data"
    }
   ],
   "source": [
    "import pandas as pd\n",
    "import numpy as np\n",
    "# pip install nsetools;\n",
    "from nsetools import Nse\n",
    "nse=Nse()\n",
    "# q=nse.get_quote('KANSAINER')\n",
    "# from pprint import pprint\n",
    "# pprint(q)\n",
    "# top_gainers = nse.get_top_gainers()\n",
    "# pip install nsepy;\n",
    "from nsepy import get_history\n",
    "\n",
    "from datetime import date\n",
    "# data = get_history(symbol=\"SBIN\", start=date(2021,1,1), end=date(2021,1,21))\n",
    "\n",
    "# pip install python-dateutil\n",
    "import dateutil.relativedelta\n",
    "import matplotlib.pyplot as plt\n",
    "from datetime import datetime,timedelta\n",
    "to_date=datetime.now()\n",
    "to_date=datetime.strftime(to_date, \"%Y %m, %d\")\n",
    "to_date=datetime.strptime(to_date, \"%Y %m, %d\")\n",
    "days_to_subtract=60\n",
    "from_date=to_date-timedelta(days=days_to_subtract)\n",
    "data = get_history(symbol=\"TATAMOTORS\", start=from_date, end=to_date)\n",
    "data[['Close']].plot()\n",
    "data.index = pd.to_datetime(data.index)"
   ]
  },
  {
   "cell_type": "code",
   "execution_count": null,
   "metadata": {},
   "outputs": [],
   "source": []
  },
  {
   "cell_type": "code",
   "execution_count": null,
   "metadata": {},
   "outputs": [],
   "source": []
  },
  {
   "cell_type": "code",
   "execution_count": null,
   "metadata": {},
   "outputs": [],
   "source": []
  },
  {
   "cell_type": "code",
   "execution_count": 12,
   "metadata": {},
   "outputs": [
    {
     "data": {
      "image/png": "[encoded data removed]",
      "text/plain": [
       "<Figure size 432x288 with 1 Axes>"
      ]
     },
     "metadata": {
      "needs_background": "light"
     },
     "output_type": "display_data"
    }
   ],
   "source": [
    "# pip install stockstats\n",
    "\n",
    "from stockstats import StockDataFrame as Sdf\n",
    "\n",
    "stock_df = Sdf.retype(data)\n",
    "\n",
    "data['rsi']=stock_df['rsi_14']\n",
    "\n",
    "del data['close_-1_s']\n",
    "del data['close_-1_d']\n",
    "del data['rs_14']\n",
    "del data['rsi_14']\n",
    "\n",
    "data['macd']=stock_df['macd']\n",
    "data['macdh']=stock_df['macdh']\n",
    "data['macds']=stock_df['macds']\n",
    "\n",
    "plt.plot(data['macds'],zorder=1)\n",
    "plt.plot(data['macd'],zorder=2)\n",
    "\n",
    "def intersection(lst_1,lst_2):\n",
    "    intersections = []\n",
    "    insights = []\n",
    "    if len(lst_1) > len(lst_2):\n",
    "        settle = len(lst_2)\n",
    "    else:\n",
    "        settle = len(lst_1)\n",
    "    for i in range(settle-1):\n",
    "        if (lst_1[i+1] < lst_2[i+1]) != (lst_1[i] < lst_2[i]):\n",
    "            if ((lst_1[i+1] < lst_2[i+1]),(lst_1[i] < lst_2[i])) == (True,False):\n",
    "                insights.append('buy')\n",
    "            else:\n",
    "                insights.append('sell')\n",
    "            intersections.append(i)\n",
    "    return intersections,insights\n",
    "intersections,insights = intersection(data[\"macds\"],data[\"macd\"])\n",
    "\n",
    "profit = 0\n",
    "pat = 1\n",
    "for i in range(len(intersections)-pat):\n",
    "    index = intersections[i]\n",
    "    true_trade= None\n",
    "    if data['close'][index] < data['close'][index+pat]:\n",
    "        true_trade = 'buy'\n",
    "    elif data['close'][index] > data['close'][index+pat]:\n",
    "        true_trade = 'sell'\n",
    "    if true_trade != None:\n",
    "        if insights[i] == true_trade:\n",
    "            profit += abs(data['close'][index]-data['close'][index+1]) \n",
    "        if insights[i] != true_trade:\n",
    "            profit += -abs(data['close'][index]-data['close'][index+1])\n"
   ]
  },
  {
   "cell_type": "code",
   "execution_count": 16,
   "metadata": {},
   "outputs": [
    {
     "data": {
      "text/plain": [
       "(DatetimeIndex(['2020-11-17', '2020-12-09', '2020-12-28'], dtype='datetime64[ns]', name='Date', freq=None),\n",
       " ['buy', 'sell', 'buy'])"
      ]
     },
     "execution_count": 16,
     "metadata": {},
     "output_type": "execute_result"
    }
   ],
   "source": [
    "# function to check last signal\n",
    "def tradingApp(from_date,to_date,company):\n",
    "    data = get_history(symbol=company, start=from_date, end=to_date)\n",
    "    data.index = pd.to_datetime(data.index)\n",
    "    stock_df = Sdf.retype(data)\n",
    "    data['macd']=stock_df['macd']\n",
    "    data['macdh']=stock_df['macdh']\n",
    "    data['macds']=stock_df['macds']\n",
    "    intersections,insights = intersection(data[\"macds\"],data[\"macd\"])\n",
    "    print(company,insights[-1])"
   ]
  },
  {
   "cell_type": "code",
   "execution_count": 104,
   "metadata": {},
   "outputs": [],
   "source": [
    "def checkTopGainersAndLosers(from_date,to_date):\n",
    "    nse=Nse()\n",
    "    \n",
    "    print(\"-------------top losers------------\")\n",
    "    top_losers = nse.get_top_losers()\n",
    "    df = pd.DataFrame(top_losers)\n",
    "    for i in df['symbol']:\n",
    "        tradingApp(from_date,to_date,i)\n",
    "    print(\"-------------top gainers------------\")\n",
    "    top_gainers = nse.get_top_gainers()\n",
    "    df = pd.DataFrame(top_gainers)\n",
    "    for i in df['symbol']:\n",
    "        tradingApp(from_date,to_date,i)\n",
    "    "
   ]
  },
  {
   "cell_type": "code",
   "execution_count": null,
   "metadata": {},
   "outputs": [],
   "source": []
  },
  {
   "cell_type": "code",
   "execution_count": 106,
   "metadata": {},
   "outputs": [
    {
     "name": "stdout",
     "output_type": "stream",
     "text": [
      "-------------top losers------------\n",
      "TECHM buy\n",
      "HCLTECH buy\n",
      "WIPRO buy\n",
      "GAIL buy\n",
      "ONGC buy\n",
      "HINDALCO buy\n",
      "ASIANPAINT sell\n",
      "BPCL buy\n",
      "ULTRACEMCO buy\n",
      "DIVISLAB sell\n",
      "-------------top gainers------------\n",
      "TATAMOTORS buy\n",
      "BHARTIARTL buy\n",
      "UPL buy\n",
      "ITC sell\n",
      "GRASIM buy\n",
      "BAJAJ-AUTO buy\n",
      "TATASTEEL buy\n"
     ]
    }
   ],
   "source": [
    "checkTopGainersAndLosers(date(2020,1,1),date(2021,1,14))"
   ]
  },
  {
   "cell_type": "code",
   "execution_count": null,
   "metadata": {},
   "outputs": [],
   "source": []
  },
  {
   "cell_type": "code",
   "execution_count": null,
   "metadata": {},
   "outputs": [],
   "source": []
  },
  {
   "cell_type": "code",
   "execution_count": 102,
   "metadata": {},
   "outputs": [],
   "source": [
    "def getAllStocks():\n",
    "    nse=Nse()\n",
    "    all_stock_codes = nse.get_stock_codes()\n",
    "    all_stock_codes.pop('SYMBOL')\n",
    "    for i in all_stock_codes.keys():\n",
    "        print (i)"
   ]
  },
  {
   "cell_type": "code",
   "execution_count": null,
   "metadata": {},
   "outputs": [],
   "source": []
  }
 ],
 "metadata": {
  "kernelspec": {
   "display_name": "Python 3",
   "language": "python",
   "name": "python3"
  },
  "language_info": {
   "codemirror_mode": {
    "name": "ipython",
    "version": 3
   },
   "file_extension": ".py",
   "mimetype": "text/x-python",
   "name": "python",
   "nbconvert_exporter": "python",
   "pygments_lexer": "ipython3",
   "version": "3.7.6"
  }
 },
 "nbformat": 4,
 "nbformat_minor": 4
}
